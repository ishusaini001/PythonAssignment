{
 "cells": [
  {
   "cell_type": "code",
   "execution_count": null,
   "id": "e7edebd6",
   "metadata": {},
   "outputs": [],
   "source": [
    "Q.1->Declare two variables, 'x' and 'y', and assign them integer values. Swap the values of these variables without using any temporary variable."
   ]
  },
  {
   "cell_type": "code",
   "execution_count": 1,
   "id": "1226a5d1",
   "metadata": {},
   "outputs": [
    {
     "name": "stdout",
     "output_type": "stream",
     "text": [
      "Before swapping\n",
      "6\n",
      "8\n",
      "Before swapping\n",
      "8\n",
      "6\n"
     ]
    }
   ],
   "source": [
    "x=6\n",
    "y=8\n",
    "\n",
    "print(\"Before swapping\")\n",
    "print(x)\n",
    "print(y)\n",
    "\n",
    "print(\"Before swapping\")\n",
    "x,y=y,x\n",
    "\n",
    "print(x)\n",
    "print(y)\n"
   ]
  },
  {
   "cell_type": "code",
   "execution_count": null,
   "id": "727b6af5",
   "metadata": {},
   "outputs": [],
   "source": [
    "Q.2->Create a program that calculates the area of a rectangle. Take the length and width as inputs from the user and store them in variables. Calculate and display the area."
   ]
  },
  {
   "cell_type": "code",
   "execution_count": 2,
   "id": "fa41d138",
   "metadata": {},
   "outputs": [
    {
     "name": "stdout",
     "output_type": "stream",
     "text": [
      "Enter the length  20\n",
      "Enter the width  30\n",
      "The area of the rectangle is: 600\n"
     ]
    }
   ],
   "source": [
    "l = int(input(\"Enter the length  \"))\n",
    "w = int(input(\"Enter the width  \"))\n",
    "area = l * w\n",
    "\n",
    "print(\"The area of the rectangle is:\", area)"
   ]
  },
  {
   "cell_type": "code",
   "execution_count": null,
   "id": "b9ccc623",
   "metadata": {},
   "outputs": [],
   "source": [
    "Q.3-> Write a Python program that converts temperatures from Celsius to Fahrenheit. Take the temperature in Celsius as input, store it in a variable, convert it to Fahrenheit, and display the result."
   ]
  },
  {
   "cell_type": "code",
   "execution_count": 3,
   "id": "cd2a776b",
   "metadata": {},
   "outputs": [
    {
     "name": "stdout",
     "output_type": "stream",
     "text": [
      "Enter temperature in Celsius47\n",
      "Temperature in Fahrenheit 116.6\n"
     ]
    }
   ],
   "source": [
    "c = float(input(\"Enter temperature in Celsius\"))\n",
    "f = (c * 9/5) + 32\n",
    "print(\"Temperature in Fahrenheit\", f)\n"
   ]
  },
  {
   "cell_type": "code",
   "execution_count": null,
   "id": "4c7b2e81",
   "metadata": {},
   "outputs": [],
   "source": [
    "#String Based Questions\n",
    "\n",
    "Q.1->Write a Python program that takes a string as input and prints the length of the string."
   ]
  },
  {
   "cell_type": "code",
   "execution_count": 4,
   "id": "6ed36b8c",
   "metadata": {},
   "outputs": [
    {
     "name": "stdout",
     "output_type": "stream",
     "text": [
      "Enter a stringishikasainisaharanpur\n",
      "The length of the string is 21\n"
     ]
    }
   ],
   "source": [
    "str = input(\"Enter a string  \")\n",
    "str_len = len(str)\n",
    "print(\"The length of the string is\",str_len)\n"
   ]
  },
  {
   "cell_type": "code",
   "execution_count": null,
   "id": "57ce8c87",
   "metadata": {},
   "outputs": [],
   "source": [
    "Q.2->Create a program that takes a sentence from the user and counts the number of vowels (a, e, i, o, u) in the string."
   ]
  },
  {
   "cell_type": "code",
   "execution_count": 5,
   "id": "883fbb37",
   "metadata": {},
   "outputs": [
    {
     "name": "stdout",
     "output_type": "stream",
     "text": [
      "Enter a stringishikasainisaharanpur\n",
      "No of vowels are 10\n"
     ]
    }
   ],
   "source": [
    "str = input(\"Enter a string \")\n",
    "vowels=0\n",
    "for i in str:\n",
    "    if i == 'a' or i == 'e' or i == 'i' or i == 'o' or i == 'u':\n",
    "        vowels=vowels+1\n",
    "print(\"No of vowels are\",vowels)"
   ]
  },
  {
   "cell_type": "code",
   "execution_count": null,
   "id": "6f640436",
   "metadata": {},
   "outputs": [],
   "source": [
    "Q.3->Given a string, reverse the order of characters using string slicing and print the reversed string"
   ]
  },
  {
   "cell_type": "code",
   "execution_count": 6,
   "id": "7da0f51e",
   "metadata": {},
   "outputs": [
    {
     "name": "stdout",
     "output_type": "stream",
     "text": [
      "Enter a string: saharanpur\n",
      "Reversed string rupnarahas\n"
     ]
    }
   ],
   "source": [
    "str = input(\"Enter a string: \")\n",
    "rev_str = str[::-1]\n",
    "print(\"Reversed string\", rev_str)"
   ]
  },
  {
   "cell_type": "code",
   "execution_count": null,
   "id": "aa267bfa",
   "metadata": {},
   "outputs": [],
   "source": [
    "Q.4->Write a program that takes a string as input and checks if it is a palindrome (reads the same forwards and backwards)."
   ]
  },
  {
   "cell_type": "code",
   "execution_count": null,
   "id": "c65566cd",
   "metadata": {},
   "outputs": [],
   "source": [
    "str = input(\"Enter a string\")\n",
    "x=str[::-1]\n",
    "if x==str:\n",
    "    print(\"string is palindrome\")\n",
    "else:\n",
    "    print(\"string is  not palindrome\")\n",
    "    "
   ]
  },
  {
   "cell_type": "code",
   "execution_count": null,
   "id": "6ab505c6",
   "metadata": {},
   "outputs": [],
   "source": [
    "Q.5->Create a program that takes a string as input and removes all the spaces from it. Print the modified string without spaces."
   ]
  },
  {
   "cell_type": "code",
   "execution_count": null,
   "id": "f1cf2605",
   "metadata": {},
   "outputs": [],
   "source": [
    "str = input(\"Enter a string\")\n",
    "\n",
    "str1 = str.replace(\" \", \"\")\n",
    "\n",
    "print(\"string without spaces:\", str1)"
   ]
  },
  {
   "cell_type": "code",
   "execution_count": null,
   "id": "c5f40c21",
   "metadata": {},
   "outputs": [],
   "source": []
  },
  {
   "cell_type": "code",
   "execution_count": null,
   "id": "3d3259a7",
   "metadata": {},
   "outputs": [],
   "source": []
  }
 ],
 "metadata": {
  "kernelspec": {
   "display_name": "Python 3 (ipykernel)",
   "language": "python",
   "name": "python3"
  },
  "language_info": {
   "codemirror_mode": {
    "name": "ipython",
    "version": 3
   },
   "file_extension": ".py",
   "mimetype": "text/x-python",
   "name": "python",
   "nbconvert_exporter": "python",
   "pygments_lexer": "ipython3",
   "version": "3.9.12"
  }
 },
 "nbformat": 4,
 "nbformat_minor": 5
}
